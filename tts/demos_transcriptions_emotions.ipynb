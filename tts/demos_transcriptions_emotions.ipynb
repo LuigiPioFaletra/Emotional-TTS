{
  "nbformat": 4,
  "nbformat_minor": 0,
  "metadata": {
    "colab": {
      "provenance": []
    },
    "kernelspec": {
      "name": "python3",
      "display_name": "Python 3"
    },
    "language_info": {
      "name": "python"
    }
  },
  "cells": [
    {
      "cell_type": "code",
      "execution_count": null,
      "metadata": {
        "id": "w1zDTDcA2Hd3"
      },
      "outputs": [],
      "source": [
        "# Prima cella -> Montaggio Drive e installazione librerie\n",
        "!pip install git+https://github.com/openai/whisper.git\n",
        "\n",
        "import os\n",
        "import pandas as pd\n",
        "import time\n",
        "import torch\n",
        "import whisper\n",
        "\n",
        "from google.colab import drive\n",
        "drive.mount('/content/drive')"
      ]
    },
    {
      "cell_type": "code",
      "source": [
        "# Seconda cella -> Definizione funzione\n",
        "def create_demos_metadata(input_folder, output_csv, valid_emotions=None, model_name=\"large-v3\"):\n",
        "    \"\"\"\n",
        "    Trascrive i file audio, estrae l'emozione dal nome del file e salva le trascrizioni in un file CSV.\n",
        "    \"\"\"\n",
        "    if valid_emotions is None:\n",
        "        valid_emotions = ['col', 'dis', 'gio', 'neu', 'pau', 'rab', 'sor', 'tri']\n",
        "    emotion_map = {\n",
        "        'col': 'colpa',\n",
        "        'dis': 'disgusto',\n",
        "        'gio': 'gioia',\n",
        "        'neu': 'neutrale',\n",
        "        'pau': 'paura',\n",
        "        'rab': 'rabbia',\n",
        "        'sor': 'sorpresa',\n",
        "        'tri': 'tristezza'\n",
        "    }\n",
        "    def extract_emotion(filename):\n",
        "        for emo in valid_emotions:\n",
        "            if emo in filename:\n",
        "                return emo\n",
        "        return None\n",
        "    device = \"cuda\" if torch.cuda.is_available() else \"cpu\"\n",
        "    print(f\"Caricamento modello su: {device}\")\n",
        "    model = whisper.load_model(model_name).to(device)\n",
        "    data = []\n",
        "    count = 0\n",
        "    script_start = time.time()\n",
        "    for root, _, files in os.walk(input_folder):\n",
        "        for file in files:\n",
        "            if not file.endswith(\".wav\"): continue\n",
        "            filepath = os.path.join(root, file)\n",
        "            emotion = extract_emotion(file.lower())\n",
        "            if not emotion: continue\n",
        "            print(f\"[{count+1}] Trascrivo: {file} [{emotion}]\")\n",
        "            t0 = time.time()\n",
        "            try:\n",
        "                result = model.transcribe(filepath, language=\"it\")\n",
        "                text = result[\"text\"].strip()\n",
        "            except Exception as e:\n",
        "                print(f\"Errore con {file}: {type(e).__name__} - {e}\")\n",
        "                continue\n",
        "            duration = time.time() - t0\n",
        "            print(f\"{duration:.2f} sec\")\n",
        "            data.append({\n",
        "                \"file_name\": os.path.basename(filepath),\n",
        "                \"transcription\": text,\n",
        "                \"emotion\": emotion_map.get(emotion, emotion)\n",
        "            })\n",
        "            count += 1\n",
        "    df = pd.DataFrame(data)\n",
        "    df.to_csv(output_csv, index=False, encoding=\"utf-8\", sep=\";\")\n",
        "    print(f\"\\nCompletato!\\nFile totali processati: {count}\")\n",
        "    print(f\"Tempo totale: {((time.time()-script_start)/60):.2f} minuti\")"
      ],
      "metadata": {
        "id": "WCUPdqST2MJ7"
      },
      "execution_count": null,
      "outputs": []
    },
    {
      "cell_type": "code",
      "source": [
        "# Terza cella -> Esempio chiamata di funzione\n",
        "create_demos_metadata(\n",
        "    input_folder=\"/content/drive/MyDrive/DEMoS\",\n",
        "    output_csv=\"/content/DEMoS_incomplete.csv\"\n",
        ")"
      ],
      "metadata": {
        "id": "a8IE_QrQ2NcF"
      },
      "execution_count": null,
      "outputs": []
    }
  ]
}